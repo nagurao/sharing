{
 "cells": [
  {
   "cell_type": "code",
   "execution_count": null,
   "metadata": {},
   "outputs": [],
   "source": [
    "from tensorflow.keras.models import Sequential\n",
    "from tensorflow.keras.layers import Dense\n",
    "from scikeras.wrappers import KerasClassifier\n",
    "from sklearn.model_selection import GridSearchCV\n",
    "from sklearn.model_selection import StratifiedKFold\n",
    "from tensorflow.keras.callbacks import EarlyStopping, ModelCheckpoint, LearningRateScheduler\n",
    "from sklearn.model_selection import RandomizedSearchCV"
   ]
  },
  {
   "cell_type": "code",
   "execution_count": null,
   "metadata": {},
   "outputs": [],
   "source": [
    "# Function to create model, required for KerasClassifier\n",
    "def create_model(optimizer='rmsprop', init='glorot_uniform'):\n",
    "    # create model\n",
    "    model = Sequential()\n",
    "    model.add(Dense(256, input_dim=X_train.shape[1], kernel_initializer=init, activation='relu'))\n",
    "    model.add(Dense(128, kernel_initializer=init, activation='relu'))\n",
    "    model.add(Dense(64, kernel_initializer=init, activation='relu'))\n",
    "    model.add(Dense(32, kernel_initializer=init, activation='relu'))\n",
    "    model.add(Dense(1, kernel_initializer=init, activation='sigmoid'))\n",
    "    # Compile model\n",
    "    model.compile(loss='binary_crossentropy', optimizer=optimizer, metrics=['accuracy'])\n",
    "    return model"
   ]
  },
  {
   "cell_type": "code",
   "execution_count": null,
   "metadata": {},
   "outputs": [],
   "source": [
    "model = KerasClassifier(model=create_model, verbose=1)\n",
    "print(model.get_params().keys())\n",
    "print(model.get_params())"
   ]
  },
  {
   "cell_type": "code",
   "execution_count": null,
   "metadata": {},
   "outputs": [],
   "source": [
    "optimizers = ['rmsprop', 'adam']\n",
    "init = ['glorot_uniform', 'normal', 'uniform']\n",
    "epochs = [50, 100, 150,200]\n",
    "batches = [5, 10, 20]"
   ]
  },
  {
   "cell_type": "code",
   "execution_count": null,
   "metadata": {},
   "outputs": [],
   "source": [
    "kfold = StratifiedKFold(n_splits=5, shuffle=True, random_state=42)"
   ]
  },
  {
   "cell_type": "code",
   "execution_count": null,
   "metadata": {},
   "outputs": [],
   "source": [
    "param_grid = dict(optimizer=optimizers, epochs=epochs, batch_size=batches, model__init=init)\n",
    "grid = GridSearchCV(estimator=model, param_grid=param_grid)"
   ]
  },
  {
   "cell_type": "code",
   "execution_count": null,
   "metadata": {},
   "outputs": [],
   "source": [
    "random_search = RandomizedSearchCV(model, param_distributions=param_grid, n_iter=10, cv=kfold, scoring='accuracy', verbose=1, n_jobs=-1)\n",
    "random_search_results = random_search.fit(X_train, y_train)\n",
    "\n",
    "print(f\"Best Accuracy: {random_search_results.best_score_:.2f}%\")\n",
    "print(f\"Best Parameters: {random_search_results.best_params_}\")"
   ]
  },
  {
   "cell_type": "code",
   "execution_count": null,
   "metadata": {},
   "outputs": [],
   "source": [
    "# Neural network with optimal hyperparameters\n",
    "best_model = random_search_results.best_estimator_\n",
    "best_model.fit(X_train, y_train, epochs=best_model.epochs, batch_size=best_model.batch_size, verbose=1, validation_split=0.2)\n",
    "best_scores = best_model.model.evaluate(X_test, y_test, verbose=0)\n",
    "print(f\"Best Model Accuracy: {best_scores[1]*100:.2f}%\")"
   ]
  },
  {
   "cell_type": "code",
   "execution_count": null,
   "metadata": {},
   "outputs": [],
   "source": [
    "# Cross-validation with the best model\n",
    "cv_scores = []\n",
    "for train, val in kfold.split(X_train, y_train):\n",
    "    cv_model = create_model(learning_rate=best_model.learning_rate, dropout_rate=best_model.dropout_rate, weight_decay=best_model.weight_decay)\n",
    "    cv_model.fit(X_train[train], y_train[train], epochs=best_model.epochs, batch_size=best_model.batch_size, verbose=0)\n",
    "    _, accuracy = cv_model.evaluate(X_train[val], y_train[val], verbose=0)\n",
    "    cv_scores.append(accuracy)\n",
    "\n",
    "print(f\"Cross-Validation Accuracy: {np.mean(cv_scores)*100:.2f}%\")"
   ]
  }
 ],
 "metadata": {
  "language_info": {
   "name": "python"
  }
 },
 "nbformat": 4,
 "nbformat_minor": 2
}
